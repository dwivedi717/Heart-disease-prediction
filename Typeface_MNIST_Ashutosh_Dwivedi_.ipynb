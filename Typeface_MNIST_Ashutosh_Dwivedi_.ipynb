{
  "nbformat": 4,
  "nbformat_minor": 0,
  "metadata": {
    "colab": {
      "provenance": [],
      "authorship_tag": "ABX9TyNQYG1UNdYdHCa5qKZzB5Jz",
      "include_colab_link": true
    },
    "kernelspec": {
      "name": "python3",
      "display_name": "Python 3"
    },
    "language_info": {
      "name": "python"
    }
  },
  "cells": [
    {
      "cell_type": "markdown",
      "metadata": {
        "id": "view-in-github",
        "colab_type": "text"
      },
      "source": [
        "<a href=\"https://colab.research.google.com/github/dwivedi717/Heart-disease-prediction/blob/main/Typeface_MNIST_Ashutosh_Dwivedi_.ipynb\" target=\"_parent\"><img src=\"https://colab.research.google.com/assets/colab-badge.svg\" alt=\"Open In Colab\"/></a>"
      ]
    },
    {
      "cell_type": "markdown",
      "source": [
        "# **Neural Network Type Classification | TMNIST**"
      ],
      "metadata": {
        "id": "65ZnfbVv87zE"
      }
    },
    {
      "cell_type": "markdown",
      "source": [
        "## **Abstract**"
      ],
      "metadata": {
        "id": "5Tq9CsZSDyGl"
      }
    },
    {
      "cell_type": "markdown",
      "source": [
        "The objective of this notebook is to conduct digit recognition on the MNIST dataset, which comprises 10 digits. I have constructed a Convolutional Neural Network (CNN) using the Keras library with a TensorFlow backend to achieve this task. The results indicate an accuracy level of approximately 98.67%.\n",
        "\n",
        "\n",
        "**About Dataset**\n",
        "\n",
        "TMNIST: A database of Typeface based digits\n",
        "This dataset is inspired by the MNIST database for handwritten digits. It consists of images representing digits from 0-9 produced using 2,990 google fonts files.\n",
        "\n",
        "**The dataset consists of a single file: TMNIST_Data.csv**\n",
        "\n",
        "This file consists of 29,900 examples with labels and font names. Each row contains 786 elements:\n",
        "- The first element represents the font name (ex-Chivo-Italic, Sen-Bold)\n",
        "- The second element represents the label (a number from 0-9)\n",
        "- The remaining 784 elements represent the grayscale pixel values (from 0-255) for the 28x28 pixel image."
      ],
      "metadata": {
        "id": "VyQsTQpAD4HT"
      }
    },
    {
      "cell_type": "markdown",
      "source": [
        "## **Importing Libraries**"
      ],
      "metadata": {
        "id": "kupnCHtiEDqU"
      }
    },
    {
      "cell_type": "code",
      "source": [
        "import numpy as np\n",
        "import pandas as pd\n",
        "\n",
        "import matplotlib.pyplot as plt\n",
        "import seaborn as sns\n",
        "import matplotlib.pyplot as plt\n",
        "\n",
        "from sklearn.model_selection import train_test_split\n",
        "import tensorflow as ts\n",
        "from tensorflow.keras.models import Sequential\n",
        "from tensorflow.keras.layers import Conv2D, MaxPooling2D, Flatten, Dense, Dropout\n",
        "from tensorflow.keras.utils import to_categorical"
      ],
      "metadata": {
        "id": "R94ouOWGGriI"
      },
      "execution_count": 2,
      "outputs": []
    },
    {
      "cell_type": "markdown",
      "source": [
        "## **Reading Data**"
      ],
      "metadata": {
        "id": "gXhv8ZukG_LO"
      }
    },
    {
      "cell_type": "code",
      "source": [
        "# Readind data from csv\n",
        "digit_df = pd.read_csv(\"https://raw.githubusercontent.com/dwivedi717/Heart-disease-prediction/main/DigitRecognition_Using_CNN_TMINST%20_Dataset\")"
      ],
      "metadata": {
        "id": "jqredqRTHEOx"
      },
      "execution_count": 3,
      "outputs": []
    },
    {
      "cell_type": "markdown",
      "source": [
        "**Dataset summary:**\n",
        "\n",
        "- The names column can be dropped since it is font-style and irrelevant in the scenario.\n",
        "- The labels column is the actual digit column,  which will be our target variable.\n",
        "- Column 1 to 784 is 28 x 28 image pixels."
      ],
      "metadata": {
        "id": "XklnA2j2Y7_3"
      }
    },
    {
      "cell_type": "markdown",
      "source": [
        "## **Data Preprocessing**"
      ],
      "metadata": {
        "id": "ytrcxuWkY_9J"
      }
    },
    {
      "cell_type": "code",
      "source": [
        "X = digit_df.drop(columns=['names','labels']).values #Dropping names and labels column for Input data\n",
        "\n",
        "y = digit_df[['labels']].values # Setting label as target"
      ],
      "metadata": {
        "id": "psHK7h0tZCte"
      },
      "execution_count": 4,
      "outputs": []
    },
    {
      "cell_type": "code",
      "source": [
        "# creating test train split of 80% and 20%\n",
        "X_train, X_test, y_train, y_test = train_test_split(X, y, test_size=0.2, random_state=42)"
      ],
      "metadata": {
        "id": "kM4QfBRNaHMO"
      },
      "execution_count": 5,
      "outputs": []
    },
    {
      "cell_type": "markdown",
      "source": [
        "### **Normalisation**"
      ],
      "metadata": {
        "id": "Qe5uq-XqaUz9"
      }
    },
    {
      "cell_type": "markdown",
      "source": [
        "- The pixel values of the images in the MNIST dataset are scaled by dividing them by 255.\n",
        "- This operation ensures that the pixel values, originally ranging from 0 to 255 (representing grayscale intensities), are transformed to the range [0, 1].\n",
        "- This normalization step is a common preprocessing practice before feeding the data into a neural network, and it contributes to the overall stability and effectiveness of the training process."
      ],
      "metadata": {
        "id": "caL3nWo_aXmy"
      }
    },
    {
      "cell_type": "code",
      "source": [
        "# Scaling\n",
        "X_train = X_train/255\n",
        "X_test = X_test/255"
      ],
      "metadata": {
        "id": "OF-OLyKTaaAv"
      },
      "execution_count": 6,
      "outputs": []
    },
    {
      "cell_type": "markdown",
      "source": [
        "### **Reshaping**"
      ],
      "metadata": {
        "id": "WOzJCbuNacWq"
      }
    },
    {
      "cell_type": "markdown",
      "source": [
        "- The images in the MNIST dataset are reshaped from their original 2D format (28x28 pixels) to a 3D format (28x28x1).\n",
        "- The -1 in the reshape function is used to automatically infer the number of samples, preserving the original number of samples in the dataset.\n",
        "- The resulting shape is (number of samples, height, width, channels), making it suitable for feeding into a CNN where the first convolutional layer expects input with these dimensions."
      ],
      "metadata": {
        "id": "CozgeTMBae0f"
      }
    },
    {
      "cell_type": "code",
      "source": [
        "# Reshape images\n",
        "X_train = X_train.reshape(-1, 28, 28, 1) # Reshapes the training images to a 4D tensor, where each image has dimensions 28x28x1\n",
        "X_test = X_test.reshape(-1, 28, 28, 1) # Reshapes the test images in the same way as the training images"
      ],
      "metadata": {
        "id": "ZioKLNHOahGu"
      },
      "execution_count": 7,
      "outputs": []
    },
    {
      "cell_type": "markdown",
      "source": [
        "### **One-Hot Encoding**"
      ],
      "metadata": {
        "id": "2UDZWiHQakDm"
      }
    },
    {
      "cell_type": "markdown",
      "source": [
        "- In classification tasks, the target labels represent different classes or categories. In the case of digit recognition (as in the MNIST dataset), each label corresponds to a digit (0 through 9).\n",
        "- One-hot encoding transforms these categorical labels into a binary matrix, where each class is represented as a binary vector. This representation is suitable for training neural networks."
      ],
      "metadata": {
        "id": "GmNAGo9Gamau"
      }
    },
    {
      "cell_type": "code",
      "source": [
        "# Use OneHotEncoder to encode target column\n",
        "y_train = to_categorical(y_train, num_classes=10)\n",
        "y_test = to_categorical(y_test, num_classes=10)"
      ],
      "metadata": {
        "id": "QR3olxEgapCo"
      },
      "execution_count": 8,
      "outputs": []
    },
    {
      "cell_type": "markdown",
      "source": [
        "### **Plotting from Train and Test data**"
      ],
      "metadata": {
        "id": "lHL4KUKKarZB"
      }
    },
    {
      "cell_type": "code",
      "source": [
        "fig, (ax0, ax1) = plt.subplots(nrows=1, ncols=2, sharex=True,figsize=(14, 5))\n",
        "\n",
        "# Creating a distribution of count of digits in train data\n",
        "for col in range(10):\n",
        "    ax0.bar(col, y_train[:, col].sum(), label=f'Category {col+1}')\n",
        "ax0.set_title('Train Data')\n",
        "ax0.set_xlabel('Labels')\n",
        "ax0.set_ylabel('Count')\n",
        "\n",
        "# Creating a distribution of count of digits in test data\n",
        "for col in range(10):\n",
        "    ax1.bar(col, y_test[:, col].sum(), label=f'Category {col+1}')\n",
        "ax1.set_title('Test Data')\n",
        "ax1.set_xlabel('Labels')\n",
        "ax1.set_ylabel('Count')\n",
        "\n",
        "plt.show()"
      ],
      "metadata": {
        "colab": {
          "base_uri": "https://localhost:8080/",
          "height": 487
        },
        "id": "t6Ua7MC3au1C",
        "outputId": "caeef171-b369-4832-fca1-332112af1c44"
      },
      "execution_count": 9,
      "outputs": [
        {
          "output_type": "display_data",
          "data": {
            "text/plain": [
              "<Figure size 1400x500 with 2 Axes>"
            ],
            "image/png": "[encoded data removed]"
          },
          "metadata": {}
        }
      ]
    },
    {
      "cell_type": "code",
      "source": [
        "# Plotting first 3 image from train data\n",
        "fig, ax = plt.subplots(1,3,figsize=(10,6))\n",
        "\n",
        "ax[0].imshow(X_train[0])\n",
        "ax[1].imshow(X_train[1])\n",
        "ax[2].imshow(X_train[2])"
      ],
      "metadata": {
        "colab": {
          "base_uri": "https://localhost:8080/",
          "height": 307
        },
        "id": "7wq5JOtIeWeh",
        "outputId": "d7a945d0-59c9-4d00-c3ae-5728855dcba8"
      },
      "execution_count": 10,
      "outputs": [
        {
          "output_type": "execute_result",
          "data": {
            "text/plain": [
              "<matplotlib.image.AxesImage at 0x7d1c0c68f070>"
            ]
          },
          "metadata": {},
          "execution_count": 10
        },
        {
          "output_type": "display_data",
          "data": {
            "text/plain": [
              "<Figure size 1000x600 with 3 Axes>"
            ],
            "image/png": "[encoded data removed]"
          },
          "metadata": {}
        }
      ]
    },
    {
      "cell_type": "markdown",
      "source": [
        "## **Implementing CNN**"
      ],
      "metadata": {
        "id": "jHwJpbhHefsN"
      }
    },
    {
      "cell_type": "code",
      "source": [
        "# CNN Model with layers\n",
        "cnnModel = Sequential([\n",
        "    Conv2D(32, (3, 3), activation='relu', input_shape=(28, 28, 1)), # Convolutional layer with 32 output\n",
        "\n",
        "    MaxPooling2D((2,2)), # Max pooling layer to reduce the spatial dimensions\n",
        "\n",
        "    Conv2D(32, (3, 3), activation='relu'),  # Convolutional layer with 64 output channels\n",
        "\n",
        "    MaxPooling2D((2,2)),  # Max pooling layer to reduce the spatial dimensions\n",
        "\n",
        "    Flatten(), # Flatten the output for input to fully connected layers\n",
        "\n",
        "    Dense(256, activation='relu'),  # Another fully connected layer with 512 output units\n",
        "\n",
        "    Dropout(0.5), # Dropout layer to prevent overfitting\n",
        "\n",
        "    Dense(10, activation='softmax')  # Final fully connected layer with 10 output units (corresponding to classes)\n",
        "\n",
        "])"
      ],
      "metadata": {
        "id": "prZEllr8eifa"
      },
      "execution_count": 11,
      "outputs": []
    },
    {
      "cell_type": "markdown",
      "source": [
        "1. **Conv2D Layer (32 filters):**\n",
        "  - 32 filters (or kernels) with a size of (3, 3).\n",
        "  - Activation function: ReLU (Rectified Linear Unit).\n",
        "  - Input shape: (28, 28, 1), indicating the input image size of 28x28 pixels with a single channel (grayscale).\n",
        "\n",
        "2. **MaxPooling2D Layer:**\n",
        "  - Pooling layer with a pool size of (2, 2). <br>\n",
        "  - This reduces the spatial dimensions of the output from the previous layer.\n",
        "\n",
        "3. **Conv2D Layer (32 filters):**\n",
        "  - Another convolutional layer with 32 filters and a size of (3, 3).\n",
        "  - Activation function: ReLU.\n",
        "\n",
        "4. **MaxPooling2D Layer:**\n",
        "  - Another pooling layer with a pool size of (2, 2).\n",
        "\n",
        "5. **Flatten Layer:**\n",
        "  - Flattens the 2D output to a 1D array, preparing it for input to the fully connected layers.\n",
        "\n",
        "6. **Dense Layer (Fully Connected) with 256 units:**\n",
        "  - Activation function: ReLU.\n",
        "\n",
        "7. **Dropout Layer:**\n",
        "  - Dropout layer with a dropout rate of 0.5. Dropout is used to prevent overfitting by randomly dropping out units during training.\n",
        "\n",
        "8. **Dense Layer (Fully Connected) with 10 units:**\n",
        "  - Final output layer with 10 units, corresponding to the number of classes in the classification task (e.g., digits 0 through 9 for MNIST).\n",
        "  - Activation function: Softmax, used for multi-class classification.\n",
        "\n",
        "This architecture follows a common pattern for image classification tasks, with convolutional layers for feature extraction and fully connected layers for classification. The MaxPooling layers help reduce the spatial dimensions and control the number of parameters. The Dropout layer helps prevent overfitting during training."
      ],
      "metadata": {
        "id": "ZfjE-Dc5euRy"
      }
    },
    {
      "cell_type": "markdown",
      "source": [
        "### **Compiling**"
      ],
      "metadata": {
        "id": "u6jJd4j_exp6"
      }
    },
    {
      "cell_type": "markdown",
      "source": [
        "This step is crucial in preparing the model for training.\n",
        "\n",
        "The compile method requires several arguments that define how the model will be trained and evaluated."
      ],
      "metadata": {
        "id": "uA0UxTK9fbg_"
      }
    },
    {
      "cell_type": "code",
      "source": [
        "# specifying optimizer, loss function, and metrics\n",
        "cnnModel.compile(optimizer='adam', loss='categorical_crossentropy', metrics=['accuracy'])"
      ],
      "metadata": {
        "id": "jd2cBNFXfd9-"
      },
      "execution_count": 12,
      "outputs": []
    },
    {
      "cell_type": "code",
      "source": [
        "cnnModel.summary()"
      ],
      "metadata": {
        "colab": {
          "base_uri": "https://localhost:8080/"
        },
        "id": "J7lUSqRdfg9r",
        "outputId": "9300dc95-a3dc-4e2a-d8d4-f827cf33fe16"
      },
      "execution_count": 13,
      "outputs": [
        {
          "output_type": "stream",
          "name": "stdout",
          "text": [
            "Model: \"sequential\"\n",
            "_________________________________________________________________\n",
            " Layer (type)                Output Shape              Param #   \n",
            "=================================================================\n",
            " conv2d (Conv2D)             (None, 26, 26, 32)        320       \n",
            "                                                                 \n",
            " max_pooling2d (MaxPooling2  (None, 13, 13, 32)        0         \n",
            " D)                                                              \n",
            "                                                                 \n",
            " conv2d_1 (Conv2D)           (None, 11, 11, 32)        9248      \n",
            "                                                                 \n",
            " max_pooling2d_1 (MaxPoolin  (None, 5, 5, 32)          0         \n",
            " g2D)                                                            \n",
            "                                                                 \n",
            " flatten (Flatten)           (None, 800)               0         \n",
            "                                                                 \n",
            " dense (Dense)               (None, 256)               205056    \n",
            "                                                                 \n",
            " dropout (Dropout)           (None, 256)               0         \n",
            "                                                                 \n",
            " dense_1 (Dense)             (None, 10)                2570      \n",
            "                                                                 \n",
            "=================================================================\n",
            "Total params: 217194 (848.41 KB)\n",
            "Trainable params: 217194 (848.41 KB)\n",
            "Non-trainable params: 0 (0.00 Byte)\n",
            "_________________________________________________________________\n"
          ]
        }
      ]
    },
    {
      "cell_type": "markdown",
      "source": [
        "**Explanation**\n",
        "\n",
        "1. **Model Architecture:**<br>\n",
        "  The model is a Sequential model, meaning that layers are added one after the other in a sequential manner.\n",
        "\n",
        "2. **Layer Information:**<br>\n",
        "  The table provides information about each layer in the model, including the type of layer, the output shape, and the number of parameters.\n",
        "\n",
        "3. **Layer Types:**<br>\n",
        "  - Conv2D: Convolutional layer with 32 filters, each of size (3, 3), and ReLU activation.\n",
        "  - MaxPooling2D: Max pooling layer with a pool size of (2, 2).\n",
        "  - Flatten: Flattening layer to convert the 2D output to a 1D array.\n",
        "  - Dense: Fully connected layer with 256 units and ReLU activation, followed by a dropout layer with a dropout rate of 0.5.\n",
        "  - Another Dense layer with 10 units and softmax activation, representing the output layer for 10 classes (digits 0 through 9).\n",
        "\n",
        "4. **Output Shape:**<br>\n",
        "  The output shape for each layer is displayed, indicating the dimensions of the output tensor at that layer.\n",
        "\n",
        "5. **Parameters:**<br>\n",
        "  The number of parameters for each layer, representing the weights and biases that the model will learn during training. These parameters are crucial for the model to make accurate predictions.\n",
        "\n",
        "6. **Total Trainable Parameters:**<br>\n",
        "  The total number of trainable parameters in the model, which is the sum of parameters across all layers. This value is important for understanding the model's capacity and the amount of memory it requires.\n",
        "\n",
        "7. **Trainable and Non-trainable Parameters:**<br>\n",
        "  Trainable parameters are those that will be updated during training to minimize the loss function. Non-trainable parameters, often associated with certain layers (like pooling layers), remain fixed during training."
      ],
      "metadata": {
        "id": "QPIkVzoOfq-i"
      }
    },
    {
      "cell_type": "markdown",
      "source": [
        "### **Training the model**"
      ],
      "metadata": {
        "id": "xzbe7JgSfuJ1"
      }
    },
    {
      "cell_type": "code",
      "source": [
        "modelHistory = cnnModel.fit(X_train, y_train, epochs=5, batch_size=16, validation_split=0.2)"
      ],
      "metadata": {
        "colab": {
          "base_uri": "https://localhost:8080/"
        },
        "id": "4I8cBgvrfxJ5",
        "outputId": "1cea7bf8-67fe-4875-d200-91b3d8832a7c"
      },
      "execution_count": 14,
      "outputs": [
        {
          "output_type": "stream",
          "name": "stdout",
          "text": [
            "Epoch 1/5\n",
            "720/720 [==============================] - 13s 17ms/step - loss: 0.2739 - accuracy: 0.9153 - val_loss: nan - val_accuracy: 0.9778\n",
            "Epoch 2/5\n",
            "720/720 [==============================] - 12s 16ms/step - loss: 0.0772 - accuracy: 0.9777 - val_loss: nan - val_accuracy: 0.9819\n",
            "Epoch 3/5\n",
            "720/720 [==============================] - 12s 17ms/step - loss: 0.0562 - accuracy: 0.9835 - val_loss: nan - val_accuracy: 0.9858\n",
            "Epoch 4/5\n",
            "720/720 [==============================] - 12s 17ms/step - loss: 0.0409 - accuracy: 0.9888 - val_loss: nan - val_accuracy: 0.9875\n",
            "Epoch 5/5\n",
            "720/720 [==============================] - 12s 17ms/step - loss: 0.0335 - accuracy: 0.9899 - val_loss: nan - val_accuracy: 0.9868\n"
          ]
        }
      ]
    },
    {
      "cell_type": "markdown",
      "source": [
        "## **Plotting model performance**"
      ],
      "metadata": {
        "id": "SFQ1inCogM1j"
      }
    },
    {
      "cell_type": "code",
      "source": [
        "fig, (ax0, ax1) = plt.subplots(nrows=1, ncols=2, sharex=True,figsize=(14, 5))\n",
        "\n",
        "ax0.plot(modelHistory.history['accuracy'])\n",
        "ax0.plot(modelHistory.history['val_accuracy'])\n",
        "ax0.set_title('Model Accuracy')\n",
        "ax0.set_xlabel('Epoch')\n",
        "ax0.set_ylabel('Accuracy')\n",
        "ax0.legend(['Train', 'Validation'], loc='upper left')\n",
        "\n",
        "ax1.plot(modelHistory.history['loss'])\n",
        "ax1.plot(modelHistory.history['val_loss'])\n",
        "ax1.set_title('Model Loss')\n",
        "ax1.set_xlabel('Epoch')\n",
        "ax1.set_ylabel('Loss')\n",
        "ax1.legend(['Train', 'Validation'], loc='upper left')\n",
        "\n",
        "plt.show()"
      ],
      "metadata": {
        "colab": {
          "base_uri": "https://localhost:8080/",
          "height": 487
        },
        "id": "lg9DyRekgPAl",
        "outputId": "965a633f-e191-43d5-900c-3f8bbf6aa7aa"
      },
      "execution_count": 15,
      "outputs": [
        {
          "output_type": "display_data",
          "data": {
            "text/plain": [
              "<Figure size 1400x500 with 2 Axes>"
            ],
            "image/png": "[encoded data removed]"
          },
          "metadata": {}
        }
      ]
    },
    {
      "cell_type": "markdown",
      "source": [
        "## **Evaluating the model**"
      ],
      "metadata": {
        "id": "jLBjbnmdgg-T"
      }
    },
    {
      "cell_type": "code",
      "source": [
        "results = cnnModel.evaluate(X_test, y_test)"
      ],
      "metadata": {
        "colab": {
          "base_uri": "https://localhost:8080/"
        },
        "id": "yiVUV5DkglqE",
        "outputId": "0228750d-0cf4-4be4-cec4-a961d5cfcd1f"
      },
      "execution_count": 16,
      "outputs": [
        {
          "output_type": "stream",
          "name": "stdout",
          "text": [
            "113/113 [==============================] - 1s 8ms/step - loss: 0.0434 - accuracy: 0.9867\n"
          ]
        }
      ]
    },
    {
      "cell_type": "code",
      "source": [
        "print(f\"Accuracy: {round(results[1],4)*100}%\")\n",
        "print(f\"Loss: {round(results[0],4)*100}%\")"
      ],
      "metadata": {
        "colab": {
          "base_uri": "https://localhost:8080/"
        },
        "id": "ucEgDVcUgsXY",
        "outputId": "aae52530-6d6e-437b-eb90-6215b77e315c"
      },
      "execution_count": 17,
      "outputs": [
        {
          "output_type": "stream",
          "name": "stdout",
          "text": [
            "Accuracy: 98.67%\n",
            "Loss: 4.34%\n"
          ]
        }
      ]
    },
    {
      "cell_type": "markdown",
      "source": [
        "## **Conclusion**"
      ],
      "metadata": {
        "id": "qCOtRVoNgvof"
      }
    },
    {
      "cell_type": "markdown",
      "source": [
        "- Convolutional Neural Network (CNN) architecture was employed for digit recognition on the MNIST dataset.\n",
        "- The model consisted of convolutional and pooling layers for feature extraction, followed by fully connected layers for classification.\n",
        "- Training the model for 5 epochs yielded impressive results, achieving an accuracy of 98.67% on the validation set.\n",
        "- The loss was minimized to 4.34%, showcasing the effectiveness of the CNN in accurately recognizing handwritten digits."
      ],
      "metadata": {
        "id": "WRzZhnZ3gyIe"
      }
    },
    {
      "cell_type": "markdown",
      "source": [
        "## **License**"
      ],
      "metadata": {
        "id": "ZzjJzNKdg-Tp"
      }
    },
    {
      "cell_type": "markdown",
      "source": [
        "MIT License\n",
        "\n",
        "Copyright (c) [2024] [Ashutosh Vinod Dwivedi]\n",
        "\n",
        "Permission is hereby granted, free of charge, to any person obtaining a copy of this software and associated documentation files (the \"Software\"), to deal in the Software without restriction, including without limitation the rights to use, copy, modify, merge, publish, distribute, sublicense, and/or sell copies of the Software, and to permit persons to whom the Software is furnished to do so, subject to the following conditions:\n",
        "\n",
        "The above copyright notice and this permission notice shall be included in all copies or substantial portions of the Software.\n",
        "\n",
        "THE SOFTWARE IS PROVIDED \"AS IS,\" WITHOUT WARRANTY OF ANY KIND, EXPRESS OR IMPLIED, INCLUDING BUT NOT LIMITED TO THE WARRANTIES OF MERCHANTABILITY, FITNESS FOR A PARTICULAR PURPOSE AND NONINFRINGEMENT. IN NO EVENT SHALL THE AUTHORS OR COPYRIGHT HOLDERS BE LIABLE FOR ANY CLAIM, DAMAGES OR OTHER LIABILITY, WHETHER IN AN ACTION OF CONTRACT, TORT OR OTHERWISE, ARISING FROM, OUT OF OR IN CONNECTION WITH THE SOFTWARE OR THE USE OR OTHER DEALINGS IN THE SOFTWARE."
      ],
      "metadata": {
        "id": "vllAp2ZYg_EF"
      }
    },
    {
      "cell_type": "markdown",
      "source": [
        "## **References**"
      ],
      "metadata": {
        "id": "ylT0hxxLhYnh"
      }
    },
    {
      "cell_type": "markdown",
      "source": [
        "Tensorflow- https://www.tensorflow.org/learn<br>\n",
        "CNN - https://www.tensorflow.org/tutorials/images/cnn <br>\n",
        "Kaggle Dataset- https://www.kaggle.com/datasets/nimishmagre/tmnist-typeface-mnist<br>\n",
        "Kaggle notebook - https://www.kaggle.com/code/sheshngupta/tminst-character-recognition-94-4-accuracy<br>"
      ],
      "metadata": {
        "id": "OfxfHyY8hauL"
      }
    }
  ]
}